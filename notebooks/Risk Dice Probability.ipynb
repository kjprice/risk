{
 "cells": [
  {
   "cell_type": "code",
   "execution_count": 70,
   "metadata": {},
   "outputs": [],
   "source": [
    "import numpy as np\n",
    "import pandas as pd"
   ]
  },
  {
   "cell_type": "markdown",
   "metadata": {},
   "source": [
    "output = {}\n",
    "for i in range(1000):\n",
    "    n = np.random.choice(6)\n",
    "    if not n in output:\n",
    "        output[n] = 0\n",
    "    output[n] += 1\n",
    "output"
   ]
  },
  {
   "cell_type": "markdown",
   "metadata": {},
   "source": [
    "# Methods For Battles (rolling dice until all troops are depleted)"
   ]
  },
  {
   "cell_type": "code",
   "execution_count": 2,
   "metadata": {},
   "outputs": [],
   "source": [
    "def roll_dice():\n",
    "    return np.random.choice(6) + 1"
   ]
  },
  {
   "cell_type": "code",
   "execution_count": 3,
   "metadata": {},
   "outputs": [
    {
     "data": {
      "text/plain": [
       "[6, 2]"
      ]
     },
     "execution_count": 3,
     "metadata": {},
     "output_type": "execute_result"
    }
   ],
   "source": [
    "def roll_all_dice(count):\n",
    "    return sorted([roll_dice() for i in range(count)], reverse=True)\n",
    "roll_all_dice(2)"
   ]
  },
  {
   "cell_type": "code",
   "execution_count": 4,
   "metadata": {},
   "outputs": [
    {
     "data": {
      "text/plain": [
       "((2, 0), ([5, 5, 3], [6, 6]))"
      ]
     },
     "execution_count": 4,
     "metadata": {},
     "output_type": "execute_result"
    }
   ],
   "source": [
    "def attack_once(attacker_dice_count, defender_dice_count):\n",
    "    attacker_dice = roll_all_dice(attacker_dice_count)\n",
    "    defender_dice = roll_all_dice(defender_dice_count)\n",
    "    \n",
    "    attacker_loss = 0\n",
    "    defender_loss = 0\n",
    "    for i in range(min(len(attacker_dice), len(defender_dice))):\n",
    "        attacker_roll = attacker_dice[i]\n",
    "        defender_roll = defender_dice[i]\n",
    "        if attacker_roll > defender_roll:\n",
    "            defender_loss += 1\n",
    "        else:\n",
    "            attacker_loss += 1\n",
    "    \n",
    "    return (attacker_loss, defender_loss), (attacker_dice, defender_dice)\n",
    "    \n",
    "\n",
    "# Returns (loss, dice)\n",
    "attack_once(3, 2)\n",
    "    "
   ]
  },
  {
   "cell_type": "code",
   "execution_count": 5,
   "metadata": {},
   "outputs": [
    {
     "data": {
      "text/plain": [
       "2"
      ]
     },
     "execution_count": 5,
     "metadata": {},
     "output_type": "execute_result"
    }
   ],
   "source": [
    "def get_max_dice_count(soldier_count, is_attacker = False):\n",
    "    max_dice = 3 if is_attacker else 2\n",
    "    \n",
    "    return min(max_dice, max(soldier_count - 1, 1))\n",
    "get_max_dice_count(3, False)"
   ]
  },
  {
   "cell_type": "code",
   "execution_count": 6,
   "metadata": {},
   "outputs": [
    {
     "data": {
      "text/plain": [
       "((1, 0), ([4, 1], [4]))"
      ]
     },
     "execution_count": 6,
     "metadata": {},
     "output_type": "execute_result"
    }
   ],
   "source": [
    "def attack_with_all_dice(attacker_soldier_count, defender_soldier_count):\n",
    "    attacker_dice_count = get_max_dice_count(attacker_soldier_count, True)\n",
    "    defender_dice_count = get_max_dice_count(defender_soldier_count, False)\n",
    "    if attacker_dice_count == 0:\n",
    "        return None\n",
    "    if defender_dice_count == 0:\n",
    "        return None\n",
    "    \n",
    "    return attack_once(attacker_dice_count, defender_dice_count)\n",
    "#     print(attacker_dice_count, defender_dice_count)\n",
    "attack_with_all_dice(3, 1)"
   ]
  },
  {
   "cell_type": "code",
   "execution_count": 64,
   "metadata": {},
   "outputs": [
    {
     "data": {
      "text/plain": [
       "(1, 4)"
      ]
     },
     "execution_count": 64,
     "metadata": {},
     "output_type": "execute_result"
    }
   ],
   "source": [
    "# Continue to attack as long as possible\n",
    "def blitz(attacker_soldier_count, defender_soldier_count):\n",
    "    while(attacker_soldier_count > 1 and defender_soldier_count > 0):\n",
    "        loss, dice = attack_with_all_dice(attacker_soldier_count, defender_soldier_count)\n",
    "\n",
    "        attacker_loss, defender_loss = loss\n",
    "        attacker_soldier_count -= attacker_loss\n",
    "        defender_soldier_count -= defender_loss\n",
    "\n",
    "    return attacker_soldier_count, defender_soldier_count\n",
    "blitz(10, 10)"
   ]
  },
  {
   "cell_type": "markdown",
   "metadata": {},
   "source": [
    "# Analyze Wins Versus Defeats"
   ]
  },
  {
   "cell_type": "code",
   "execution_count": 58,
   "metadata": {},
   "outputs": [
    {
     "name": "stdout",
     "output_type": "stream",
     "text": [
      "Attacker won 52.0% of the time\n"
     ]
    }
   ],
   "source": [
    "def perform_analysis(attacker_soldier_count, defender_soldier_count, iterations=100):\n",
    "    attacker_win_count = 0\n",
    "    total_attack_count = 0\n",
    "    \n",
    "    for i in range(iterations):\n",
    "        attacker_win, defender_win = blitz(attacker_soldier_count, defender_soldier_count)\n",
    "        attacker_win_count += 1 if attacker_win > 1 else 0\n",
    "        total_attack_count += 1\n",
    "    \n",
    "    percent = 0\n",
    "    if total_attack_count == 0:\n",
    "        percent == 100\n",
    "    else:\n",
    "        ratio = (attacker_win_count / total_attack_count)\n",
    "        percent = np.round(ratio * 100, 2)\n",
    "    print('Attacker won {}% of the time'.format(percent))\n",
    "\n",
    "perform_analysis(3, 2)"
   ]
  },
  {
   "cell_type": "code",
   "execution_count": 9,
   "metadata": {
    "scrolled": true
   },
   "outputs": [
    {
     "name": "stdout",
     "output_type": "stream",
     "text": [
      "For (2, 1): Attacker won 42.28% of the time\n",
      "For (3, 1): Attacker won 76.13% of the time\n",
      "For (4, 1): Attacker won 91.91% of the time\n",
      "For (5, 1): Attacker won 97.05% of the time\n",
      "For (3, 2): Attacker won 50.02% of the time\n",
      "For (2, 2): Attacker won 17.18% of the time\n",
      "For (4, 3): Attacker won 52.76% of the time\n",
      "For (6, 2): Attacker won 96.11% of the time\n",
      "For (10, 10): Attacker won 51.34% of the time\n"
     ]
    }
   ],
   "source": [
    "def perform_all_analysis():\n",
    "    ITERATIONS = 10000\n",
    "    soldier_counts = [\n",
    "        (2, 1),\n",
    "        (3, 1),\n",
    "        (4, 1),\n",
    "        (5, 1),\n",
    "        (3, 2),\n",
    "        (2, 2),\n",
    "        (4, 3),\n",
    "        (6, 2),\n",
    "        (10, 10),\n",
    "    ]\n",
    "    \n",
    "    for soldier_count in soldier_counts:\n",
    "        attacker_soldiers, defender_soldiers = soldier_count\n",
    "        print('For ({}, {})'.format(attacker_soldiers, defender_soldiers), end=': ')\n",
    "        perform_analysis(attacker_soldiers, defender_soldiers, iterations=ITERATIONS)\n",
    "perform_all_analysis()"
   ]
  },
  {
   "cell_type": "code",
   "execution_count": 67,
   "metadata": {},
   "outputs": [
    {
     "name": "stdout",
     "output_type": "stream",
     "text": [
      "Attacker won 77.53% of the time\n"
     ]
    }
   ],
   "source": [
    "ITERATIONS=10000\n",
    "attacker_soldiers=9\n",
    "defender_soldiers=6\n",
    "perform_analysis(attacker_soldiers, defender_soldiers, iterations=ITERATIONS)"
   ]
  },
  {
   "cell_type": "markdown",
   "metadata": {},
   "source": [
    "### Huge number of iterations"
   ]
  },
  {
   "cell_type": "code",
   "execution_count": 11,
   "metadata": {},
   "outputs": [
    {
     "name": "stdout",
     "output_type": "stream",
     "text": [
      "Attacker won 75.44% of the time\n"
     ]
    }
   ],
   "source": [
    "perform_analysis(3, 1, 10000000)"
   ]
  },
  {
   "cell_type": "markdown",
   "metadata": {},
   "source": [
    "# How many troops remain after attack"
   ]
  },
  {
   "cell_type": "code",
   "execution_count": 74,
   "metadata": {},
   "outputs": [],
   "source": [
    "def count_remaining_troops(attacker_soldier_count, defender_soldier_count, iterations=100):\n",
    "    remaining_attacking_soldiers = []\n",
    "    remaining_defending_soldiers = []\n",
    "    for i in range(iterations):\n",
    "        attacker_win, defender_win = blitz(attacker_soldier_count, defender_soldier_count)\n",
    "        if attacker_win > 1:\n",
    "            remaining_attacking_soldiers.append(attacker_win -1)\n",
    "        if defender_win > 0:\n",
    "            remaining_defending_soldiers.append(defender_soldier_count)\n",
    "    \n",
    "    return remaining_attacking_soldiers, remaining_defending_soldiers\n",
    "#     return pd.DataFrame({'attack': remaining_attacking_soldiers, 'defend':remaining_defending_soldiers})\n",
    "\n",
    "    \n",
    "    "
   ]
  },
  {
   "cell_type": "code",
   "execution_count": 80,
   "metadata": {},
   "outputs": [
    {
     "data": {
      "text/plain": [
       "<AxesSubplot:ylabel='Frequency'>"
      ]
     },
     "execution_count": 80,
     "metadata": {},
     "output_type": "execute_result"
    },
    {
     "data": {
      "image/png": "[encoded data removed]",
      "text/plain": [
       "<Figure size 432x288 with 1 Axes>"
      ]
     },
     "metadata": {
      "needs_background": "light"
     },
     "output_type": "display_data"
    }
   ],
   "source": [
    "pd.DataFrame({'attacker': count_remaining_troops(4, 2, 10000)[0]}).plot.hist()"
   ]
  },
  {
   "cell_type": "markdown",
   "metadata": {},
   "source": [
    "# Chance of Attacker Defeating Defender\n",
    "\n",
    "Attacking dice has a 15/36 (roughly 41.67%) chance of defeating a defending dice."
   ]
  },
  {
   "cell_type": "code",
   "execution_count": 15,
   "metadata": {},
   "outputs": [
    {
     "name": "stdout",
     "output_type": "stream",
     "text": [
      "Attacker won 91.78% of the time\n"
     ]
    }
   ],
   "source": [
    "perform_analysis(4, 1, 100000)"
   ]
  },
  {
   "cell_type": "code",
   "execution_count": 16,
   "metadata": {},
   "outputs": [
    {
     "name": "stdout",
     "output_type": "stream",
     "text": [
      "Attacker won 75.38% of the time\n"
     ]
    }
   ],
   "source": [
    "perform_analysis(3, 1, 100000)"
   ]
  },
  {
   "cell_type": "markdown",
   "metadata": {},
   "source": [
    "## Using Statistical Probability"
   ]
  },
  {
   "cell_type": "code",
   "execution_count": 17,
   "metadata": {},
   "outputs": [],
   "source": [
    "def calculate_winning_dividend(numbers_count=4):\n",
    "    r"
   ]
  },
  {
   "cell_type": "code",
   "execution_count": null,
   "metadata": {},
   "outputs": [],
   "source": [
    "1 - ((1/2) ** 3) - ((3/6) * ((1/2) ** 3))"
   ]
  },
  {
   "cell_type": "code",
   "execution_count": null,
   "metadata": {},
   "outputs": [],
   "source": [
    "0.8125 * 64"
   ]
  },
  {
   "cell_type": "code",
   "execution_count": null,
   "metadata": {},
   "outputs": [],
   "source": [
    "((3/6) * ((1/2) ** 3)) * 64"
   ]
  },
  {
   "cell_type": "code",
   "execution_count": null,
   "metadata": {},
   "outputs": [],
   "source": [
    "((1/2) ** 3) * 8"
   ]
  },
  {
   "cell_type": "markdown",
   "metadata": {},
   "source": [
    "### Probability of attacker winning with 3v1 dice"
   ]
  },
  {
   "cell_type": "code",
   "execution_count": 19,
   "metadata": {},
   "outputs": [
    {
     "data": {
      "text/plain": [
       "0.75"
      ]
     },
     "execution_count": 19,
     "metadata": {},
     "output_type": "execute_result"
    }
   ],
   "source": [
    "ATTACKER_DICE_COUNT=3\n",
    "\n",
    "attacker_dice_count = ATTACKER_DICE_COUNT\n",
    "probability_defender_wins = (1/2) ** 3\n",
    "probability_of_tie = (1/2) ** 3\n",
    "\n",
    "probability_attacker_wins = 1 - probability_defender_wins - probability_of_tie\n",
    "probability_attacker_wins"
   ]
  },
  {
   "cell_type": "code",
   "execution_count": null,
   "metadata": {},
   "outputs": [],
   "source": []
  }
 ],
 "metadata": {
  "kernelspec": {
   "display_name": "ml",
   "language": "python",
   "name": "ml"
  },
  "language_info": {
   "codemirror_mode": {
    "name": "ipython",
    "version": 3
   },
   "file_extension": ".py",
   "mimetype": "text/x-python",
   "name": "python",
   "nbconvert_exporter": "python",
   "pygments_lexer": "ipython3",
   "version": "3.7.10"
  }
 },
 "nbformat": 4,
 "nbformat_minor": 2
}
