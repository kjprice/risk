{
 "cells": [
  {
   "cell_type": "code",
   "execution_count": 1,
   "metadata": {},
   "outputs": [],
   "source": [
    "import numpy as np"
   ]
  },
  {
   "cell_type": "markdown",
   "metadata": {},
   "source": [
    "output = {}\n",
    "for i in range(1000):\n",
    "    n = np.random.choice(6)\n",
    "    if not n in output:\n",
    "        output[n] = 0\n",
    "    output[n] += 1\n",
    "output"
   ]
  },
  {
   "cell_type": "code",
   "execution_count": 2,
   "metadata": {},
   "outputs": [],
   "source": [
    "def roll_dice():\n",
    "    return np.random.choice(6) + 1"
   ]
  },
  {
   "cell_type": "code",
   "execution_count": 3,
   "metadata": {},
   "outputs": [
    {
     "data": {
      "text/plain": [
       "[6, 2]"
      ]
     },
     "execution_count": 3,
     "metadata": {},
     "output_type": "execute_result"
    }
   ],
   "source": [
    "def roll_all_dice(count):\n",
    "    return sorted([roll_dice() for i in range(count)], reverse=True)\n",
    "roll_all_dice(2)"
   ]
  },
  {
   "cell_type": "code",
   "execution_count": 4,
   "metadata": {},
   "outputs": [
    {
     "data": {
      "text/plain": [
       "((0, 2), ([5, 5, 3], [2, 2]))"
      ]
     },
     "execution_count": 4,
     "metadata": {},
     "output_type": "execute_result"
    }
   ],
   "source": [
    "def attack_once(attacker_dice_count, defender_dice_count):\n",
    "    attacker_dice = roll_all_dice(attacker_dice_count)\n",
    "    defender_dice = roll_all_dice(defender_dice_count)\n",
    "    \n",
    "    attacker_loss = 0\n",
    "    defender_loss = 0\n",
    "    for i in range(min(len(attacker_dice), len(defender_dice))):\n",
    "        attacker_roll = attacker_dice[i]\n",
    "        defender_roll = defender_dice[i]\n",
    "        if attacker_roll > defender_roll:\n",
    "            defender_loss += 1\n",
    "        else:\n",
    "            attacker_loss += 1\n",
    "    \n",
    "    return (attacker_loss, defender_loss), (attacker_dice, defender_dice)\n",
    "    \n",
    "\n",
    "# Returns (loss, dice)\n",
    "attack_once(3, 2)\n",
    "    "
   ]
  },
  {
   "cell_type": "code",
   "execution_count": 21,
   "metadata": {},
   "outputs": [
    {
     "data": {
      "text/plain": [
       "2"
      ]
     },
     "execution_count": 21,
     "metadata": {},
     "output_type": "execute_result"
    }
   ],
   "source": [
    "def get_max_dice_count(soldier_count, is_attacker = False):\n",
    "    max_dice = 3 if is_attacker else 2\n",
    "    \n",
    "    return min(max_dice, max(soldier_count - 1, 1))\n",
    "get_max_dice_count(3, False)"
   ]
  },
  {
   "cell_type": "code",
   "execution_count": 6,
   "metadata": {},
   "outputs": [
    {
     "data": {
      "text/plain": [
       "((0, 1), ([5, 3], [1]))"
      ]
     },
     "execution_count": 6,
     "metadata": {},
     "output_type": "execute_result"
    }
   ],
   "source": [
    "def attack_with_all_dice(attacker_soldier_count, defender_soldier_count):\n",
    "    attacker_dice_count = get_max_dice_count(attacker_soldier_count, True)\n",
    "    defender_dice_count = get_max_dice_count(defender_soldier_count, False)\n",
    "    if attacker_dice_count == 0:\n",
    "        return None\n",
    "    if defender_dice_count == 0:\n",
    "        return None\n",
    "    \n",
    "    return attack_once(attacker_dice_count, defender_dice_count)\n",
    "#     print(attacker_dice_count, defender_dice_count)\n",
    "attack_with_all_dice(3, 1)"
   ]
  },
  {
   "cell_type": "code",
   "execution_count": 22,
   "metadata": {},
   "outputs": [
    {
     "data": {
      "text/plain": [
       "[1, 0]"
      ]
     },
     "execution_count": 22,
     "metadata": {},
     "output_type": "execute_result"
    }
   ],
   "source": [
    "# Continue to attack as long as possible\n",
    "def blitz(attacker_soldier_count, defender_soldier_count):\n",
    "    while(attacker_soldier_count > 1 and defender_soldier_count > 0):\n",
    "        loss, dice = attack_with_all_dice(attacker_soldier_count, defender_soldier_count)\n",
    "\n",
    "        attacker_loss, defender_loss = loss\n",
    "        attacker_soldier_count -= attacker_loss\n",
    "        defender_soldier_count -= defender_loss        \n",
    "    if attacker_soldier_count > 1:\n",
    "        return [1, 0]\n",
    "    return [0, 1]\n",
    "blitz(10, 10)"
   ]
  },
  {
   "cell_type": "code",
   "execution_count": 8,
   "metadata": {},
   "outputs": [
    {
     "name": "stdout",
     "output_type": "stream",
     "text": [
      "Attacker won 43.0% of the time\n"
     ]
    }
   ],
   "source": [
    "def perform_analysis(attacker_soldier_count, defender_soldier_count, iterations=100):\n",
    "    attacker_win_count = 0\n",
    "    total_attack_count = 0\n",
    "    \n",
    "    for i in range(iterations):\n",
    "        attacker_win, defender_win = blitz(attacker_soldier_count, defender_soldier_count)\n",
    "        attacker_win_count += attacker_win\n",
    "        total_attack_count += 1\n",
    "    \n",
    "    percent = 0\n",
    "    if total_attack_count == 0:\n",
    "        percent == 100\n",
    "    else:\n",
    "        ratio = (attacker_win_count / total_attack_count)\n",
    "        percent = np.round(ratio * 100, 2)\n",
    "    print('Attacker won {}% of the time'.format(percent))\n",
    "\n",
    "perform_analysis(3, 2)"
   ]
  },
  {
   "cell_type": "code",
   "execution_count": 9,
   "metadata": {
    "scrolled": true
   },
   "outputs": [
    {
     "name": "stdout",
     "output_type": "stream",
     "text": [
      "For (2, 1): Attacker won 41.64% of the time\n",
      "For (3, 1): Attacker won 75.54% of the time\n",
      "For (4, 1): Attacker won 91.97% of the time\n",
      "For (5, 1): Attacker won 96.87% of the time\n",
      "For (3, 2): Attacker won 51.82% of the time\n",
      "For (2, 2): Attacker won 17.18% of the time\n",
      "For (4, 3): Attacker won 51.11% of the time\n",
      "For (6, 2): Attacker won 96.14% of the time\n",
      "For (10, 10): Attacker won 50.92% of the time\n"
     ]
    }
   ],
   "source": [
    "def perform_all_analysis():\n",
    "    ITERATIONS = 10000\n",
    "    soldier_counts = [\n",
    "        (2, 1),\n",
    "        (3, 1),\n",
    "        (4, 1),\n",
    "        (5, 1),\n",
    "        (3, 2),\n",
    "        (2, 2),\n",
    "        (4, 3),\n",
    "        (6, 2),\n",
    "        (10, 10),\n",
    "    ]\n",
    "    \n",
    "    for soldier_count in soldier_counts:\n",
    "        attacker_soldiers, defender_soldiers = soldier_count\n",
    "        print('For ({}, {})'.format(attacker_soldiers, defender_soldiers), end=': ')\n",
    "        perform_analysis(attacker_soldiers, defender_soldiers, iterations=ITERATIONS)\n",
    "perform_all_analysis()"
   ]
  },
  {
   "cell_type": "code",
   "execution_count": 23,
   "metadata": {},
   "outputs": [
    {
     "name": "stdout",
     "output_type": "stream",
     "text": [
      "Attacker won 76.5% of the time\n"
     ]
    }
   ],
   "source": [
    "ITERATIONS=10000\n",
    "attacker_soldiers=9\n",
    "defender_soldiers=6\n",
    "perform_analysis(attacker_soldiers, defender_soldiers, iterations=ITERATIONS)"
   ]
  },
  {
   "cell_type": "code",
   "execution_count": 50,
   "metadata": {},
   "outputs": [
    {
     "name": "stdout",
     "output_type": "stream",
     "text": [
      "Attacker won 75.41% of the time\n"
     ]
    }
   ],
   "source": [
    "perform_analysis(3, 1, 10000000)"
   ]
  },
  {
   "cell_type": "markdown",
   "metadata": {},
   "source": [
    "# Chance of Attacker Defeating Defender\n",
    "\n",
    "Attacking dice has a 15/36 (roughly 41.67%) chance of defeating a defending dice."
   ]
  },
  {
   "cell_type": "code",
   "execution_count": 11,
   "metadata": {},
   "outputs": [],
   "source": [
    "chance_of_winning = 15 / 36\n",
    "chance_of_losing = 1 - ( 15 / 36 )\n"
   ]
  },
  {
   "cell_type": "code",
   "execution_count": 12,
   "metadata": {},
   "outputs": [
    {
     "data": {
      "text/plain": [
       "0.8015046296296298"
      ]
     },
     "execution_count": 12,
     "metadata": {},
     "output_type": "execute_result"
    }
   ],
   "source": [
    "# Chance of winning when attacker has 3 dice and defender has two dice\n",
    "def chance_of_attacker_winning(dice_count):\n",
    "    return 1 - (chance_of_losing ** dice_count)\n",
    "\n",
    "chance_of_attacker_winning(3)\n",
    "\n",
    "# But... this does not reflect an actual battle, because the attacker can attack multiple times even if they lose the first time\n"
   ]
  },
  {
   "cell_type": "code",
   "execution_count": 13,
   "metadata": {
    "scrolled": true
   },
   "outputs": [
    {
     "name": "stdout",
     "output_type": "stream",
     "text": [
      "chance_of_winning_this_round 0.6597222222222223 1\n",
      "chance_of_winning_this_round 0.41666666666666674 0.3402777777777777\n"
     ]
    },
    {
     "data": {
      "text/plain": [
       "0.8015046296296298"
      ]
     },
     "execution_count": 13,
     "metadata": {},
     "output_type": "execute_result"
    }
   ],
   "source": [
    "# Chance of winning when allowed to roll multiple times\n",
    "def chance_of_attacker_winning_depleting_all_dice(dice_count):\n",
    "    chance_of_losing_all = 1\n",
    "    for this_dice_count in range(dice_count, 0, -1): # Up to 3\n",
    "        chance_of_winning_this_round = chance_of_attacker_winning(this_dice_count)\n",
    "        print('chance_of_winning_this_round', chance_of_winning_this_round, chance_of_losing_all)\n",
    "        chance_of_losing_this_round = 1 - chance_of_winning_this_round\n",
    "        chance_of_losing_all *= chance_of_losing_this_round\n",
    "    \n",
    "    chance_of_winning_any = 1 - chance_of_losing_all\n",
    "    \n",
    "    return chance_of_winning_any\n",
    "\n",
    "chance_of_attacker_winning_depleting_all_dice(2)\n"
   ]
  },
  {
   "cell_type": "code",
   "execution_count": 14,
   "metadata": {},
   "outputs": [
    {
     "name": "stdout",
     "output_type": "stream",
     "text": [
      "Attacker won 91.63% of the time\n"
     ]
    }
   ],
   "source": [
    "perform_analysis(4, 1, 100000)"
   ]
  },
  {
   "cell_type": "code",
   "execution_count": 15,
   "metadata": {},
   "outputs": [
    {
     "name": "stdout",
     "output_type": "stream",
     "text": [
      "Attacker won 75.6% of the time\n"
     ]
    }
   ],
   "source": [
    "perform_analysis(3, 1, 100000)"
   ]
  },
  {
   "cell_type": "markdown",
   "metadata": {},
   "source": [
    "## Using Statistical Probability"
   ]
  },
  {
   "cell_type": "code",
   "execution_count": null,
   "metadata": {},
   "outputs": [],
   "source": [
    "def calculate_winning_dividend(numbers_count=4):\n",
    "    r"
   ]
  },
  {
   "cell_type": "code",
   "execution_count": null,
   "metadata": {},
   "outputs": [],
   "source": [
    "NUMBERS_ON_DICE=3\n",
    "ATTACKER_DICE_COUNT=1\n",
    "DEFENDER_DICE_COUNT=1\n",
    "\n",
    "chance_of_winning_attack = "
   ]
  },
  {
   "cell_type": "code",
   "execution_count": 29,
   "metadata": {},
   "outputs": [
    {
     "data": {
      "text/plain": [
       "0.8125"
      ]
     },
     "execution_count": 29,
     "metadata": {},
     "output_type": "execute_result"
    }
   ],
   "source": [
    "1 - ((1/2) ** 3) - ((3/6) * ((1/2) ** 3))"
   ]
  },
  {
   "cell_type": "code",
   "execution_count": 30,
   "metadata": {},
   "outputs": [
    {
     "data": {
      "text/plain": [
       "52.0"
      ]
     },
     "execution_count": 30,
     "metadata": {},
     "output_type": "execute_result"
    }
   ],
   "source": [
    "0.8125 * 64"
   ]
  },
  {
   "cell_type": "code",
   "execution_count": 32,
   "metadata": {},
   "outputs": [
    {
     "data": {
      "text/plain": [
       "4.0"
      ]
     },
     "execution_count": 32,
     "metadata": {},
     "output_type": "execute_result"
    }
   ],
   "source": [
    "((3/6) * ((1/2) ** 3)) * 64"
   ]
  },
  {
   "cell_type": "code",
   "execution_count": 34,
   "metadata": {},
   "outputs": [
    {
     "data": {
      "text/plain": [
       "1.0"
      ]
     },
     "execution_count": 34,
     "metadata": {},
     "output_type": "execute_result"
    }
   ],
   "source": [
    "((1/2) ** 3) * 8"
   ]
  },
  {
   "cell_type": "code",
   "execution_count": 35,
   "metadata": {},
   "outputs": [
    {
     "data": {
      "text/plain": [
       "0.75"
      ]
     },
     "execution_count": 35,
     "metadata": {},
     "output_type": "execute_result"
    }
   ],
   "source": [
    "ATTACKER_DICE_COUNT=3\n",
    "\n",
    "attacker_dice_count = ATTACKER_DICE_COUNT\n",
    "probability_defender_wins = (1/2) ** 3\n",
    "probability_of_tie = (1/2) ** 3\n",
    "\n",
    "probability_attacker_wins = 1 - probability_defender_wins - probability_of_tie\n",
    "probability_attacker_wins"
   ]
  }
 ],
 "metadata": {
  "kernelspec": {
   "display_name": "ml",
   "language": "python",
   "name": "ml"
  },
  "language_info": {
   "codemirror_mode": {
    "name": "ipython",
    "version": 3
   },
   "file_extension": ".py",
   "mimetype": "text/x-python",
   "name": "python",
   "nbconvert_exporter": "python",
   "pygments_lexer": "ipython3",
   "version": "3.7.10"
  }
 },
 "nbformat": 4,
 "nbformat_minor": 2
}
